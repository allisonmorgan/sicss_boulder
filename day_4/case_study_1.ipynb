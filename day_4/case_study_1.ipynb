{
 "cells": [
  {
   "cell_type": "code",
   "execution_count": 1,
   "metadata": {},
   "outputs": [],
   "source": [
    "import json"
   ]
  },
  {
   "cell_type": "markdown",
   "metadata": {},
   "source": [
    "# Text Analysis"
   ]
  },
  {
   "cell_type": "markdown",
   "metadata": {},
   "source": [
    "Today we covered a broad range of techniques for analyzing unstructured text. Yesterday, the group exercise was designed to help you get to know each other better and explore possible topics for a group research project that you might launch during the second week by designing a study that would employ digital trace data. Today, we are going to have a more structured group exercise designed to compare the strengths and weaknesses of different text analysis techniques when they are applied to the same dataset.\n",
    "\n",
    "<ol>\n",
    "    <li>Divide yourselves into groups of four by counting off in order around the room.</li>\n",
    "    <li>Load the dataframe of tweets by President Trump that we analyzed during the discussion of dictionary-based text methods:</li>\n",
    "</ol>"
   ]
  },
  {
   "cell_type": "code",
   "execution_count": 2,
   "metadata": {},
   "outputs": [
    {
     "name": "stdout",
     "output_type": "stream",
     "text": [
      "Contains 3196 tweets. The first one was liked 4550 times and retweeted 1114 times.\n"
     ]
    }
   ],
   "source": [
    "with open(\"trump_tweets.json\") as file:\n",
    "    trump_tweets = json.load(file)\n",
    "\n",
    "print(\"Contains {0} tweets. The first one was liked {1} times and retweeted {2} times.\".format(\n",
    "    len(trump_tweets), trump_tweets[0][\"favorite_count\"], trump_tweets[0][\"retweet_count\"]))"
   ]
  },
  {
   "cell_type": "markdown",
   "metadata": {},
   "source": [
    "<ol start=3>\n",
    "<li>Use at least two of the techniques we discussed this morning to pull out features from the text of Trump’s tweets (e.g. dictionaries, sentiment, stemming).</li>\n",
    "\n",
    "<li>Work together to identify whether any features of Trump’s Twitter language predict the number of retweets or likes his messages receive.</li>\n",
    "\n",
    "<li>Load the dataframe of daily approval ratings for President Trump from the FiveThirtyEight's projects page:</li>\n",
    "</ol>"
   ]
  },
  {
   "cell_type": "code",
   "execution_count": 3,
   "metadata": {},
   "outputs": [],
   "source": [
    "import pandas as pd\n",
    "trump_approval = pd.read_csv(\"https://projects.fivethirtyeight.com/trump-approval-data/approval_topline.csv\")"
   ]
  },
  {
   "cell_type": "code",
   "execution_count": 4,
   "metadata": {},
   "outputs": [
    {
     "data": {
      "text/html": [
       "<div>\n",
       "<style scoped>\n",
       "    .dataframe tbody tr th:only-of-type {\n",
       "        vertical-align: middle;\n",
       "    }\n",
       "\n",
       "    .dataframe tbody tr th {\n",
       "        vertical-align: top;\n",
       "    }\n",
       "\n",
       "    .dataframe thead th {\n",
       "        text-align: right;\n",
       "    }\n",
       "</style>\n",
       "<table border=\"1\" class=\"dataframe\">\n",
       "  <thead>\n",
       "    <tr style=\"text-align: right;\">\n",
       "      <th></th>\n",
       "      <th>president</th>\n",
       "      <th>subgroup</th>\n",
       "      <th>modeldate</th>\n",
       "      <th>approve_estimate</th>\n",
       "      <th>approve_hi</th>\n",
       "      <th>approve_lo</th>\n",
       "      <th>disapprove_estimate</th>\n",
       "      <th>disapprove_hi</th>\n",
       "      <th>disapprove_lo</th>\n",
       "      <th>timestamp</th>\n",
       "    </tr>\n",
       "  </thead>\n",
       "  <tbody>\n",
       "    <tr>\n",
       "      <th>0</th>\n",
       "      <td>Donald Trump</td>\n",
       "      <td>Voters</td>\n",
       "      <td>8/8/2018</td>\n",
       "      <td>42.95343</td>\n",
       "      <td>47.21862</td>\n",
       "      <td>38.68825</td>\n",
       "      <td>52.48418</td>\n",
       "      <td>56.22020</td>\n",
       "      <td>48.74815</td>\n",
       "      <td>10:54:10  8 Aug 2018</td>\n",
       "    </tr>\n",
       "    <tr>\n",
       "      <th>1</th>\n",
       "      <td>Donald Trump</td>\n",
       "      <td>Adults</td>\n",
       "      <td>8/8/2018</td>\n",
       "      <td>40.90865</td>\n",
       "      <td>44.43031</td>\n",
       "      <td>37.38699</td>\n",
       "      <td>52.60241</td>\n",
       "      <td>56.38459</td>\n",
       "      <td>48.82022</td>\n",
       "      <td>10:53:53  8 Aug 2018</td>\n",
       "    </tr>\n",
       "    <tr>\n",
       "      <th>2</th>\n",
       "      <td>Donald Trump</td>\n",
       "      <td>All polls</td>\n",
       "      <td>8/8/2018</td>\n",
       "      <td>41.35808</td>\n",
       "      <td>45.80646</td>\n",
       "      <td>36.90971</td>\n",
       "      <td>52.72659</td>\n",
       "      <td>56.52852</td>\n",
       "      <td>48.92466</td>\n",
       "      <td>10:53:37  8 Aug 2018</td>\n",
       "    </tr>\n",
       "    <tr>\n",
       "      <th>3</th>\n",
       "      <td>Donald Trump</td>\n",
       "      <td>Adults</td>\n",
       "      <td>8/7/2018</td>\n",
       "      <td>40.90865</td>\n",
       "      <td>44.43031</td>\n",
       "      <td>37.38699</td>\n",
       "      <td>52.60241</td>\n",
       "      <td>56.38459</td>\n",
       "      <td>48.82022</td>\n",
       "      <td>19:00:56  7 Aug 2018</td>\n",
       "    </tr>\n",
       "    <tr>\n",
       "      <th>4</th>\n",
       "      <td>Donald Trump</td>\n",
       "      <td>Voters</td>\n",
       "      <td>8/7/2018</td>\n",
       "      <td>43.14393</td>\n",
       "      <td>47.50979</td>\n",
       "      <td>38.77807</td>\n",
       "      <td>52.44352</td>\n",
       "      <td>56.27042</td>\n",
       "      <td>48.61662</td>\n",
       "      <td>19:01:12  7 Aug 2018</td>\n",
       "    </tr>\n",
       "  </tbody>\n",
       "</table>\n",
       "</div>"
      ],
      "text/plain": [
       "      president   subgroup modeldate  approve_estimate  approve_hi  \\\n",
       "0  Donald Trump     Voters  8/8/2018          42.95343    47.21862   \n",
       "1  Donald Trump     Adults  8/8/2018          40.90865    44.43031   \n",
       "2  Donald Trump  All polls  8/8/2018          41.35808    45.80646   \n",
       "3  Donald Trump     Adults  8/7/2018          40.90865    44.43031   \n",
       "4  Donald Trump     Voters  8/7/2018          43.14393    47.50979   \n",
       "\n",
       "   approve_lo  disapprove_estimate  disapprove_hi  disapprove_lo  \\\n",
       "0    38.68825             52.48418       56.22020       48.74815   \n",
       "1    37.38699             52.60241       56.38459       48.82022   \n",
       "2    36.90971             52.72659       56.52852       48.92466   \n",
       "3    37.38699             52.60241       56.38459       48.82022   \n",
       "4    38.77807             52.44352       56.27042       48.61662   \n",
       "\n",
       "              timestamp  \n",
       "0  10:54:10  8 Aug 2018  \n",
       "1  10:53:53  8 Aug 2018  \n",
       "2  10:53:37  8 Aug 2018  \n",
       "3  19:00:56  7 Aug 2018  \n",
       "4  19:01:12  7 Aug 2018  "
      ]
     },
     "execution_count": 4,
     "metadata": {},
     "output_type": "execute_result"
    }
   ],
   "source": [
    "trump_approval.head()"
   ]
  },
  {
   "cell_type": "markdown",
   "metadata": {},
   "source": [
    "<ol start=6>\n",
    "<li>Work together to determine whether there are any features of Trump’s Twitter language that have an association with his overall approval ratings.</li>\n",
    "\n",
    "<li>Produce a visualization that describes the findings of your analysis. (See the code below to help you get started.)</li>\n",
    "</ol>\n",
    "\n",
    "Unlike yesterday, your group will be asked to share this visualization with the rest of your Institute in the 15 minutes before the visiting speaker’s lecture. Please email a copy of your presentation to the organizer of your institute so that it can be displayed on a large screen."
   ]
  },
  {
   "cell_type": "markdown",
   "metadata": {},
   "source": [
    "## Text processing and dictionary based approaches"
   ]
  },
  {
   "cell_type": "markdown",
   "metadata": {},
   "source": [
    "The Natural Language Toolkit ([NLTK](https://www.nltk.org)), can be used to help with much of the text processing that you will want to do on this data. Below we'll demonstrate the utility of the NLTK."
   ]
  },
  {
   "cell_type": "code",
   "execution_count": 5,
   "metadata": {},
   "outputs": [],
   "source": [
    "#!pip3 install nltk\n",
    "import nltk"
   ]
  },
  {
   "cell_type": "markdown",
   "metadata": {},
   "source": [
    "### Word counts and stopwords"
   ]
  },
  {
   "cell_type": "markdown",
   "metadata": {},
   "source": [
    "First, let's just [tokenize](https://en.wikipedia.org/wiki/Lexical_analysis#Tokenization) the text into words (separated by whitespace) and visualize the most frequent words across all of Donald Trump's tweets. For example, this is what tokenization returns for a single tweet:"
   ]
  },
  {
   "cell_type": "code",
   "execution_count": 6,
   "metadata": {},
   "outputs": [
    {
     "name": "stdout",
     "output_type": "stream",
     "text": [
      "['Just', 'met', 'with', 'UN', 'Secretary-General', 'António', 'Guterres', 'who', 'is', 'working', 'hard', 'to', '“', 'Make', 'the', 'United', 'Nations', 'Great', 'Again.', '”', 'When', 'the', 'UN', 'does', 'more', 'to', 'solve', 'conflicts', 'around', 'the', 'world', ',', 'it', 'means', 'the', 'U.S.', 'has', 'less', 'to', 'do', 'and', 'we', 'save', 'money', '.', '@', 'NikkiHaley', 'is', 'doing', 'a', 'fantastic', 'job', '!', 'https', ':', '//t.co/pqUv6cyH2z']\n"
     ]
    }
   ],
   "source": [
    "print(nltk.word_tokenize(trump_tweets[0]['text']))"
   ]
  },
  {
   "cell_type": "markdown",
   "metadata": {},
   "source": [
    "Let's tokenize all of the tweets:"
   ]
  },
  {
   "cell_type": "code",
   "execution_count": 7,
   "metadata": {},
   "outputs": [],
   "source": [
    "tokens = []\n",
    "for tweet in trump_tweets:\n",
    "    tokens.extend(nltk.word_tokenize(tweet['text']))"
   ]
  },
  {
   "cell_type": "code",
   "execution_count": 8,
   "metadata": {},
   "outputs": [
    {
     "name": "stdout",
     "output_type": "stream",
     "text": [
      "Trump's 3196 tweets contains 10929 unique tokens\n"
     ]
    }
   ],
   "source": [
    "print(\"Trump's {0} tweets contains {1} unique tokens\".format(len(trump_tweets), len(set(tokens))))"
   ]
  },
  {
   "cell_type": "code",
   "execution_count": 21,
   "metadata": {},
   "outputs": [
    {
     "name": "stdout",
     "output_type": "stream",
     "text": [
      "The twenty most frequent words with their counts are: ['http', 'co', 'great', 'amp', 'rt', 'peopl', 'news', 'job', 'presid', 'thank', 'countri', 'tax', 'year', 'fake', 'trump', 'america', 'today', 'american', 'big', 'u']\n"
     ]
    },
    {
     "data": {
      "image/png": "[encoded data removed]",
      "text/plain": [
       "<Figure size 600x400 with 1 Axes>"
      ]
     },
     "metadata": {},
     "output_type": "display_data"
    }
   ],
   "source": [
    "# stackoverflow.com/questions/35596128/how-to-generate-a-word-frequency-histogram-where-bars-are-ordered-according-to\n",
    "from collections import Counter\n",
    "import numpy as np\n",
    "import matplotlib.pyplot as plt\n",
    "%matplotlib inline\n",
    "\n",
    "def generate_bar_chart(tokens, limit):\n",
    "    plt.figure(figsize=(6, 4), dpi = 100)\n",
    "    counts = Counter(tokens)\n",
    "    labels, values = zip(*counts.items())\n",
    "\n",
    "    # Sort your tokens in descending order\n",
    "    indSort = np.argsort(values)[::-1][:limit]\n",
    "\n",
    "    # Arrange the labels and values of this data in the same (descending) order\n",
    "    labels = np.array(labels)[indSort]\n",
    "    values = np.array(values)[indSort]\n",
    "\n",
    "    print(\"The twenty most frequent words with their counts are: {0}\".format(list(labels)))\n",
    "\n",
    "    indexes = np.arange(len(labels))\n",
    "    bar_width = 0.35\n",
    "    plt.bar(indexes, values) # Plot the bars\n",
    "\n",
    "    # Add labels\n",
    "    plt.xticks(indexes + bar_width, labels)\n",
    "    plt.xticks(rotation=90)\n",
    "    plt.ylabel(\"Number of Times Token Appears in Trump's Tweets\")\n",
    "    \n",
    "    plt.show()\n",
    "\n",
    "generate_bar_chart(tokens, 20)"
   ]
  },
  {
   "cell_type": "markdown",
   "metadata": {},
   "source": [
    "As you can see above, without removing punctuation, lowercasing, [stemming or lemmatization](https://nlp.stanford.edu/IR-book/html/htmledition/stemming-and-lemmatization-1.html), or removing [stop words](https://en.wikipedia.org/wiki/Stop_words), the analysis may yield relatively uninformative results.* (There is a big caveat here depending on what is 'informative' to your use case.) Let's now do both. For example, stemming the same tweet above, yields the following:"
   ]
  },
  {
   "cell_type": "code",
   "execution_count": 10,
   "metadata": {},
   "outputs": [
    {
     "name": "stdout",
     "output_type": "stream",
     "text": [
      "['Just', 'met', 'UN', 'Secretary-General', 'António', 'Guterres', 'working', 'hard', '“', 'Make', 'United', 'Nations', 'Great', 'Again.', '”', 'When', 'UN', 'solve', 'conflicts', 'around', 'world', ',', 'means', 'U.S.', 'less', 'save', 'money', '.', '@', 'NikkiHaley', 'fantastic', 'job', '!', 'https', ':', '//t.co/pqUv6cyH2z']\n"
     ]
    }
   ],
   "source": [
    "from nltk.corpus import stopwords\n",
    "print([word for word in nltk.word_tokenize(trump_tweets[0]['text']) if word not in stopwords.words('english')])"
   ]
  },
  {
   "cell_type": "code",
   "execution_count": 11,
   "metadata": {},
   "outputs": [],
   "source": [
    "from nltk.stem import PorterStemmer\n",
    "from nltk.tokenize import RegexpTokenizer\n",
    "ps = PorterStemmer()\n",
    "\n",
    "tokens = []\n",
    "for tweet in trump_tweets:\n",
    "    # First, let's lowercase the tweet text\n",
    "    tweet_text = tweet['text'].lower()\n",
    "    \n",
    "    # Next, let's just tokenize on whitespace. This will drop any punctuation.\n",
    "    tokenizer = RegexpTokenizer(r'\\w+')\n",
    "    tweet_words = tokenizer.tokenize(tweet_text)\n",
    "    \n",
    "    # Then, remove stop words from the tweet\n",
    "    filtered_tweet = [word for word in tweet_words if word not in stopwords.words('english')]\n",
    "    \n",
    "    # Lastly, stem the remaining words\n",
    "    tokens.extend([ps.stem(word) for word in filtered_tweet])"
   ]
  },
  {
   "cell_type": "markdown",
   "metadata": {},
   "source": [
    "Notice how the number of unique tokens has decreased from roughly 10k to 6.5k! And the bar chart below suggests some of the more obvious words (e.g. 'america', 'great' 'fake', 'job')."
   ]
  },
  {
   "cell_type": "code",
   "execution_count": 12,
   "metadata": {},
   "outputs": [
    {
     "name": "stdout",
     "output_type": "stream",
     "text": [
      "Trump's 3196 tweets contains 6476 unique tokens\n"
     ]
    }
   ],
   "source": [
    "print(\"Trump's {0} tweets contains {1} unique tokens\".format(len(trump_tweets), len(set(tokens))))"
   ]
  },
  {
   "cell_type": "code",
   "execution_count": 13,
   "metadata": {},
   "outputs": [
    {
     "name": "stdout",
     "output_type": "stream",
     "text": [
      "The twenty most frequent words with their counts are: ['http', 'co', 'great', 'amp', 'rt', 'peopl', 'news', 'job', 'presid', 'thank', 'countri', 'tax', 'year', 'fake', 'trump', 'america', 'today', 'american', 'big', 'u']\n"
     ]
    },
    {
     "data": {
      "image/png": "[encoded data removed]",
      "text/plain": [
       "<Figure size 600x400 with 1 Axes>"
      ]
     },
     "metadata": {},
     "output_type": "display_data"
    }
   ],
   "source": [
    "generate_bar_chart(tokens, 20)"
   ]
  },
  {
   "cell_type": "markdown",
   "metadata": {},
   "source": [
    "### Tf-idf"
   ]
  },
  {
   "cell_type": "markdown",
   "metadata": {},
   "source": [
    "Term frequency-inverse document frequency ([tf-idf](https://en.wikipedia.org/wiki/Tf–idf)) is a measure used to count upweight words which occur in fewer documents. Let's try it on all of Trump's tweets, so you can see what we mean. To do so, we'll use another very common Python package called [scikit-learn](http://scikit-learn.org/stable/)."
   ]
  },
  {
   "cell_type": "code",
   "execution_count": 32,
   "metadata": {},
   "outputs": [],
   "source": [
    "# !pip3 install sklearn\n",
    "\n",
    "from sklearn.feature_extraction.text import CountVectorizer\n",
    "count_vect = CountVectorizer(lowercase=True, stop_words='english', analyzer=ps.stem)\n",
    "X_train_counts = count_vect.fit_transform([tweet['text'] for tweet in trump_tweets])\n",
    "\n",
    "from sklearn.feature_extraction.text import TfidfTransformer\n",
    "tf_transformer = TfidfTransformer(use_idf=False).fit(X_train_counts)\n",
    "X_train_tf = tf_transformer.transform(X_train_counts)"
   ]
  },
  {
   "cell_type": "markdown",
   "metadata": {},
   "source": [
    "### Creating dictionaries "
   ]
  },
  {
   "cell_type": "markdown",
   "metadata": {},
   "source": [
    "Say you wanted to know how many tweets mentioned topics related to the economy. For example, of Trump's tweets, how many mentioned the keywords: 'economy', 'unemployment', 'trade', or 'tariff'. You could subset these tweets as so:"
   ]
  },
  {
   "cell_type": "code",
   "execution_count": 38,
   "metadata": {},
   "outputs": [
    {
     "name": "stdout",
     "output_type": "stream",
     "text": [
      "Out of 3196 total tweets, 165 (5.16270337922403%) mentioned the economy in some form.\n"
     ]
    }
   ],
   "source": [
    "economic_dictionary = ['economy', 'unemployment', 'trade', 'tariff']\n",
    "\n",
    "economic_tweets = []\n",
    "for tweet in trump_tweets:\n",
    "    tweet_text = tweet['text'].lower()\n",
    "    if any([tweet_text.count(economy) for economy in economic_dictionary]):\n",
    "        economic_tweets.append(tweet)\n",
    "\n",
    "print(\"Out of {0} total tweets, {1} ({2}%) mentioned the economy in some form.\".format(\n",
    "    len(trump_tweets), len(economic_tweets), 100.0*(len(economic_tweets))/len(trump_tweets)))"
   ]
  },
  {
   "cell_type": "markdown",
   "metadata": {},
   "source": [
    "To get a sense of these 'economic' tweets, let's look a few of them:"
   ]
  },
  {
   "cell_type": "code",
   "execution_count": 40,
   "metadata": {},
   "outputs": [
    {
     "data": {
      "text/plain": [
       "['Great talk with my friend President Mauricio Macri of Argentina this week. He is doing such a good job for Argentina. I support his vision for transforming his country’s economy and unleashing its potential!',\n",
       " 'Talking trade with the Vice Premier of the People’s Republic of China, Liu He. https://t.co/9T7Iq6F3Xe',\n",
       " 'The Washington Post and CNN have typically written false stories about our trade negotiations with China. Nothing has happened with ZTE except as it pertains to the larger trade deal. Our country has been losing hundreds of billions of dollars a year with China...',\n",
       " 'Trade negotiations are continuing with China. They have been making hundreds of billions of dollars a year from the U.S., for many years. Stay tuned!',\n",
       " 'ZTE, the large Chinese phone company, buys a big percentage of individual parts from U.S. companies. This is also reflective of the larger trade deal we are negotiating with China and my personal relationship with President Xi.']"
      ]
     },
     "execution_count": 40,
     "metadata": {},
     "output_type": "execute_result"
    }
   ],
   "source": [
    "[tweet['text'] for tweet in economic_tweets[:5]]"
   ]
  },
  {
   "cell_type": "markdown",
   "metadata": {},
   "source": [
    "### Sentiment analysis & LIWC"
   ]
  },
  {
   "cell_type": "code",
   "execution_count": 35,
   "metadata": {},
   "outputs": [
    {
     "name": "stderr",
     "output_type": "stream",
     "text": [
      "/usr/local/lib/python3.6/site-packages/nltk/twitter/__init__.py:20: UserWarning: The twython library has not been installed. Some functionality from the twitter package will not be available.\n",
      "  warnings.warn(\"The twython library has not been installed. \"\n"
     ]
    }
   ],
   "source": [
    "from nltk.sentiment import SentimentAnalyzer\n",
    "\n",
    "sentim_analyzer = SentimentAnalyzer()"
   ]
  },
  {
   "cell_type": "markdown",
   "metadata": {},
   "source": [
    "### Aggregate measures by day & compare with approval"
   ]
  },
  {
   "cell_type": "markdown",
   "metadata": {},
   "source": [
    "## (Optional) Rehydrate tweets"
   ]
  },
  {
   "cell_type": "markdown",
   "metadata": {},
   "source": [
    "For the activity above, we have provided you the context for entire tweets (tweet ids, text, hashtags, likes, retweets, etc). The better way to get up to date data about these tweets is to request them as you need them. This more nicely handles tweets that have been deleted. Below we show you how you would get those tweets if you were just given tweet ids."
   ]
  },
  {
   "cell_type": "code",
   "execution_count": 14,
   "metadata": {},
   "outputs": [],
   "source": [
    "# This is a different package for importing data from Twitter (like `tweepy`) called `twitter`\n",
    "# !pip3 install python-twitter\n",
    "import twitter "
   ]
  },
  {
   "cell_type": "code",
   "execution_count": 15,
   "metadata": {},
   "outputs": [],
   "source": [
    "# Plug in your own API keys. Do not share your keys with others.\n",
    "api = twitter.Api(consumer_key='<consumer_key>',\n",
    "                  consumer_secret='<consumer_secret>',\n",
    "                  access_token_key='<access_token_key>',\n",
    "                  access_token_secret='<access_token_secret>')"
   ]
  },
  {
   "cell_type": "code",
   "execution_count": 16,
   "metadata": {},
   "outputs": [],
   "source": [
    "def chunks(l, n):\n",
    "    # stackoverflow.com/questions/312443/how-do-you-split-a-list-into-evenly-sized-chunks\n",
    "    \"\"\"Yield successive n-sized chunks from l.\"\"\"\n",
    "    for i in range(0, len(l), n):\n",
    "        yield l[i:i + n]"
   ]
  },
  {
   "cell_type": "code",
   "execution_count": 17,
   "metadata": {},
   "outputs": [],
   "source": [
    "ids = pd.read_csv('trump_ids.csv') # Read in the CSV of tweet status IDs"
   ]
  },
  {
   "cell_type": "code",
   "execution_count": 18,
   "metadata": {},
   "outputs": [],
   "source": [
    "tweets = []\n",
    "for chunk in chunks(list(ids), 100):\n",
    "    _statuses = api.GetStatuses(chunk)\n",
    "    _statuses = [t.AsDict() for t in _statuses]\n",
    "    tweets += _statuses"
   ]
  },
  {
   "cell_type": "code",
   "execution_count": 19,
   "metadata": {},
   "outputs": [
    {
     "data": {
      "text/plain": [
       "{'created_at': 'Fri May 18 20:41:21 +0000 2018',\n",
       " 'favorite_count': 51906,\n",
       " 'hashtags': [],\n",
       " 'id': 997577906007298048,\n",
       " 'id_str': '997577906007298048',\n",
       " 'lang': 'en',\n",
       " 'retweet_count': 10778,\n",
       " 'source': '<a href=\"http://twitter.com/download/iphone\" rel=\"nofollow\">Twitter for iPhone</a>',\n",
       " 'text': 'Just met with UN Secretary-General António Guterres who is working hard to “Make the United Nations Great Again.” W… https://t.co/B6dQMsJl1d',\n",
       " 'truncated': True,\n",
       " 'urls': [{'expanded_url': 'https://twitter.com/i/web/status/997577906007298048',\n",
       "   'url': 'https://t.co/B6dQMsJl1d'}],\n",
       " 'user': {'created_at': 'Wed Mar 18 13:46:38 +0000 2009',\n",
       "  'description': '45th President of the United States of America🇺🇸',\n",
       "  'favourites_count': 25,\n",
       "  'followers_count': 53585130,\n",
       "  'friends_count': 47,\n",
       "  'geo_enabled': True,\n",
       "  'id': 25073877,\n",
       "  'id_str': '25073877',\n",
       "  'lang': 'en',\n",
       "  'listed_count': 91762,\n",
       "  'location': 'Washington, DC',\n",
       "  'name': 'Donald J. Trump',\n",
       "  'profile_background_color': '6D5C18',\n",
       "  'profile_background_image_url': 'http://abs.twimg.com/images/themes/theme1/bg.png',\n",
       "  'profile_background_image_url_https': 'https://abs.twimg.com/images/themes/theme1/bg.png',\n",
       "  'profile_background_tile': True,\n",
       "  'profile_banner_url': 'https://pbs.twimg.com/profile_banners/25073877/1531968290',\n",
       "  'profile_image_url': 'http://pbs.twimg.com/profile_images/874276197357596672/kUuht00m_normal.jpg',\n",
       "  'profile_image_url_https': 'https://pbs.twimg.com/profile_images/874276197357596672/kUuht00m_normal.jpg',\n",
       "  'profile_link_color': '1B95E0',\n",
       "  'profile_sidebar_border_color': 'BDDCAD',\n",
       "  'profile_sidebar_fill_color': 'C5CEC0',\n",
       "  'profile_text_color': '333333',\n",
       "  'profile_use_background_image': True,\n",
       "  'screen_name': 'realDonaldTrump',\n",
       "  'statuses_count': 38484,\n",
       "  'url': 'https://t.co/OMxB0x7xC5',\n",
       "  'verified': True},\n",
       " 'user_mentions': []}"
      ]
     },
     "execution_count": 19,
     "metadata": {},
     "output_type": "execute_result"
    }
   ],
   "source": [
    "tweets[0]"
   ]
  },
  {
   "cell_type": "code",
   "execution_count": null,
   "metadata": {},
   "outputs": [],
   "source": []
  }
 ],
 "metadata": {
  "kernelspec": {
   "display_name": "Python 3",
   "language": "python",
   "name": "python3"
  },
  "language_info": {
   "codemirror_mode": {
    "name": "ipython",
    "version": 3
   },
   "file_extension": ".py",
   "mimetype": "text/x-python",
   "name": "python",
   "nbconvert_exporter": "python",
   "pygments_lexer": "ipython3",
   "version": "3.6.5"
  }
 },
 "nbformat": 4,
 "nbformat_minor": 2
}
