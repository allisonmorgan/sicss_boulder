{
 "cells": [
  {
   "cell_type": "markdown",
   "metadata": {},
   "source": [
    "This is a Jupyter Notebook. It contains a combination of markdown and code cells. This is an example of a markdown cell where I can *change* **formatting** in:\n",
    "\n",
    "* lots\n",
    "* of\n",
    "* different\n",
    "* ways\n",
    "\n",
    "You can double click on this cell to see the underlying markdown and edit it. \"Execute\" the cell by typing `Shift`+`Enter`"
   ]
  },
  {
   "cell_type": "markdown",
   "metadata": {},
   "source": [
    "# This is a big header I made in markdown by putting a # at the front"
   ]
  },
  {
   "cell_type": "markdown",
   "metadata": {},
   "source": [
    "More importantly, you can also add cells where you can execute Python code. Execute the cell below by clicking it and typing `Shift+Enter`."
   ]
  },
  {
   "cell_type": "code",
   "execution_count": 1,
   "metadata": {},
   "outputs": [
    {
     "name": "stdout",
     "output_type": "stream",
     "text": [
      "1 + 1 = 2\n",
      "My name is Brian\n"
     ]
    }
   ],
   "source": [
    "total = 1 + 1\n",
    "my_name = 'Brian'\n",
    "\n",
    "print('1 + 1 = {0}'.format(1+1))\n",
    "print('My name is {0}'.format(my_name))"
   ]
  },
  {
   "cell_type": "markdown",
   "metadata": {},
   "source": [
    "You can add, delete, and move cells as well. Add a cell below by typing `Control+M`, letting go, then press `B`. You can also go to \"Insert\" in the menu and select \"Insert Cell Below\"."
   ]
  },
  {
   "cell_type": "code",
   "execution_count": null,
   "metadata": {
    "collapsed": true
   },
   "outputs": [],
   "source": []
  },
  {
   "cell_type": "code",
   "execution_count": null,
   "metadata": {
    "collapsed": true
   },
   "outputs": [],
   "source": []
  },
  {
   "cell_type": "markdown",
   "metadata": {},
   "source": [
    "Hello, this is *markdown*\n",
    "\n",
    "$x_{n_2} + x^2$"
   ]
  },
  {
   "cell_type": "code",
   "execution_count": 2,
   "metadata": {},
   "outputs": [
    {
     "data": {
      "text/plain": [
       "4"
      ]
     },
     "execution_count": 2,
     "metadata": {},
     "output_type": "execute_result"
    }
   ],
   "source": [
    "2*2"
   ]
  },
  {
   "cell_type": "markdown",
   "metadata": {},
   "source": [
    "![an impala](https://upload.wikimedia.org/wikipedia/commons/3/34/Serengeti_Impala3.jpg)"
   ]
  },
  {
   "cell_type": "markdown",
   "metadata": {},
   "source": [
    "You can delete cells by selecting the cell, typing `Ctrl+M`, letting go, then press `D` twice. You can also select the cell, go to \"Edit\" in the menu and select \"Delete Cells.\""
   ]
  },
  {
   "cell_type": "markdown",
   "metadata": {},
   "source": [
    "Undo deleting cells from \"Edit\" and select \"Undo Delete Cells.\""
   ]
  },
  {
   "cell_type": "markdown",
   "metadata": {},
   "source": [
    "You can move cells around with the up and down arrows in the toolbar above."
   ]
  },
  {
   "cell_type": "raw",
   "metadata": {},
   "source": [
    "I'm #1. Put me on top."
   ]
  },
  {
   "cell_type": "raw",
   "metadata": {},
   "source": [
    "I'm #2. Put me in the middle."
   ]
  },
  {
   "cell_type": "raw",
   "metadata": {},
   "source": [
    "I'm #3. Put me on the bottom."
   ]
  },
  {
   "cell_type": "code",
   "execution_count": 5,
   "metadata": {},
   "outputs": [
    {
     "name": "stdout",
     "output_type": "stream",
     "text": [
      "499\n",
      "749\n",
      "874\n",
      "937\n",
      "968\n",
      "984\n",
      "992\n",
      "996\n",
      "998\n",
      "999\n"
     ]
    },
    {
     "data": {
      "text/plain": [
       "999"
      ]
     },
     "execution_count": 5,
     "metadata": {},
     "output_type": "execute_result"
    }
   ],
   "source": [
    "binary_search(1000,999)"
   ]
  },
  {
   "cell_type": "markdown",
   "metadata": {},
   "source": [
    "# Two example algorithms"
   ]
  },
  {
   "cell_type": "markdown",
   "metadata": {},
   "source": [
    "These are algorithms we will get to later in the course, but illustrate two algorithmic approaches to solving the problem of:\n",
    "\n",
    "*\"Given a `range_size` of potential numbers and a hidden `target` number, what's the fastest way to find the `target` number?\"*"
   ]
  },
  {
   "cell_type": "markdown",
   "metadata": {},
   "source": [
    "Linear search will start with a guess at the bottom of the range of numbers, check if the guess is the target number, and if it's not go to the next number up."
   ]
  },
  {
   "cell_type": "code",
   "execution_count": 3,
   "metadata": {
    "collapsed": true
   },
   "outputs": [],
   "source": [
    "def linear_search(range_size,target):\n",
    "    range_values = range(range_size)\n",
    "    guess = min(range_values)\n",
    "    \n",
    "    while guess < len(range_values):\n",
    "        print(guess)\n",
    "        \n",
    "        if guess == target:\n",
    "            return guess\n",
    "\n",
    "        else:\n",
    "            guess = guess + 1\n",
    "    \n",
    "    return None"
   ]
  },
  {
   "cell_type": "markdown",
   "metadata": {},
   "source": [
    "Binary search will start with a guess halfway between the min and max values, check if the guess is the target number, and if it's not, check halfway between the next values, and continue."
   ]
  },
  {
   "cell_type": "code",
   "execution_count": 4,
   "metadata": {
    "collapsed": true
   },
   "outputs": [],
   "source": [
    "def binary_search(range_size,target):\n",
    "    range_values = range(range_size)\n",
    "    low = min(range_values)\n",
    "    high = max(range_values)\n",
    "    \n",
    "    while low <= high:\n",
    "        mid = int((low + high)/2)\n",
    "        guess = range_values[mid]\n",
    "        print(guess)\n",
    "        \n",
    "        if guess == target:\n",
    "            return mid\n",
    "        \n",
    "        if guess > target:\n",
    "            high = mid - 1\n",
    "            \n",
    "        elif guess < target:\n",
    "            low = mid + 1\n",
    "            \n",
    "    return None\n",
    "        "
   ]
  },
  {
   "cell_type": "markdown",
   "metadata": {},
   "source": [
    "# Test how both algorithms work"
   ]
  },
  {
   "cell_type": "markdown",
   "metadata": {},
   "source": [
    "Run the code cells below by clicking the cell and typing `Shift+Enter`."
   ]
  },
  {
   "cell_type": "code",
   "execution_count": 5,
   "metadata": {},
   "outputs": [
    {
     "name": "stdout",
     "output_type": "stream",
     "text": [
      "0\n",
      "1\n",
      "2\n",
      "3\n",
      "4\n",
      "5\n",
      "6\n",
      "7\n",
      "8\n",
      "9\n",
      "10\n",
      "11\n",
      "12\n",
      "13\n",
      "14\n",
      "15\n",
      "16\n",
      "17\n",
      "18\n",
      "19\n",
      "20\n",
      "21\n",
      "22\n",
      "23\n",
      "24\n",
      "25\n",
      "26\n",
      "27\n",
      "28\n",
      "29\n",
      "30\n",
      "31\n",
      "32\n",
      "33\n",
      "34\n",
      "35\n",
      "36\n",
      "37\n",
      "38\n",
      "39\n",
      "40\n",
      "41\n",
      "42\n",
      "43\n",
      "44\n",
      "45\n",
      "46\n",
      "47\n",
      "48\n",
      "49\n",
      "50\n",
      "51\n",
      "52\n",
      "53\n",
      "54\n",
      "55\n",
      "56\n",
      "57\n",
      "58\n",
      "59\n",
      "60\n",
      "61\n",
      "62\n",
      "63\n",
      "64\n",
      "65\n",
      "66\n",
      "67\n",
      "68\n",
      "69\n",
      "70\n",
      "71\n",
      "72\n",
      "73\n",
      "74\n",
      "75\n",
      "76\n",
      "77\n",
      "78\n",
      "79\n",
      "80\n",
      "81\n",
      "82\n",
      "83\n",
      "84\n",
      "85\n",
      "86\n",
      "87\n",
      "88\n",
      "89\n",
      "90\n",
      "91\n",
      "92\n",
      "93\n",
      "94\n",
      "95\n",
      "96\n",
      "97\n",
      "98\n",
      "99\n"
     ]
    },
    {
     "data": {
      "text/plain": [
       "99"
      ]
     },
     "execution_count": 5,
     "metadata": {},
     "output_type": "execute_result"
    }
   ],
   "source": [
    "linear_search(100,99)"
   ]
  },
  {
   "cell_type": "markdown",
   "metadata": {},
   "source": [
    "Linear search finds the value in 99 steps. Kinda sucky."
   ]
  },
  {
   "cell_type": "code",
   "execution_count": 6,
   "metadata": {},
   "outputs": [
    {
     "name": "stdout",
     "output_type": "stream",
     "text": [
      "49\n",
      "74\n",
      "87\n",
      "93\n",
      "96\n",
      "98\n",
      "99\n"
     ]
    },
    {
     "data": {
      "text/plain": [
       "99"
      ]
     },
     "execution_count": 6,
     "metadata": {},
     "output_type": "execute_result"
    }
   ],
   "source": [
    "binary_search(100,99)"
   ]
  },
  {
   "cell_type": "markdown",
   "metadata": {},
   "source": [
    "Binary search is so much more efficient! In the worst-case scenario, it found the value in 7 steps!"
   ]
  }
 ],
 "metadata": {
  "anaconda-cloud": {},
  "kernelspec": {
   "display_name": "Python 3",
   "language": "python",
   "name": "python3"
  },
  "language_info": {
   "codemirror_mode": {
    "name": "ipython",
    "version": 3
   },
   "file_extension": ".py",
   "mimetype": "text/x-python",
   "name": "python",
   "nbconvert_exporter": "python",
   "pygments_lexer": "ipython3",
   "version": "3.6.5"
  }
 },
 "nbformat": 4,
 "nbformat_minor": 1
}
